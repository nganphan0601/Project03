{
 "cells": [
  {
   "cell_type": "code",
   "execution_count": null,
   "metadata": {},
   "outputs": [],
   "source": [
    "import pandas as pd\n",
    "import matplotlib.pyplot as plt\n",
    "import seaborn as sns"
   ]
  },
  {
   "cell_type": "code",
   "execution_count": 45,
   "metadata": {},
   "outputs": [
    {
     "name": "stdout",
     "output_type": "stream",
     "text": [
      "       id  popularity     budget     revenue                original_title  \\\n",
      "0  135397   32.985763  150000000  1513528810                Jurassic World   \n",
      "1   76341   28.419936  150000000   378436354            Mad Max: Fury Road   \n",
      "2  262500   13.112507  110000000   295238201                     Insurgent   \n",
      "3  140607   11.173104  200000000  2068178225  Star Wars: The Force Awakens   \n",
      "4  168259    9.335014  190000000  1506249360                     Furious 7   \n",
      "\n",
      "                                                cast              director  \\\n",
      "0  ['Chris Pratt', 'Bryce Dallas Howard', 'Irrfan...   ['Colin Trevorrow']   \n",
      "1  ['Tom Hardy', 'Charlize Theron', 'Hugh Keays-B...     ['George Miller']   \n",
      "2  ['Shailene Woodley', 'Theo James', 'Kate Winsl...  ['Robert Schwentke']   \n",
      "3  ['Harrison Ford', 'Mark Hamill', 'Carrie Fishe...       ['J.J. Abrams']   \n",
      "4  ['Vin Diesel', 'Paul Walker', 'Jason Statham',...         ['James Wan']   \n",
      "\n",
      "                                            keywords  runtime  \\\n",
      "0  ['monster', 'dna', 'tyrannosaurus rex', 'veloc...      124   \n",
      "1  ['future', 'chase', 'post-apocalyptic', 'dysto...      120   \n",
      "2  ['based on novel', 'revolution', 'dystopia', '...      119   \n",
      "3  ['android', 'spaceship', 'jedi', 'space opera'...      136   \n",
      "4  ['car race', 'speed', 'revenge', 'suspense', '...      137   \n",
      "\n",
      "                                              genres  \\\n",
      "0  ['Action', 'Adventure', 'Science Fiction', 'Th...   \n",
      "1  ['Action', 'Adventure', 'Science Fiction', 'Th...   \n",
      "2       ['Adventure', 'Science Fiction', 'Thriller']   \n",
      "3  ['Action', 'Adventure', 'Science Fiction', 'Fa...   \n",
      "4                    ['Action', 'Crime', 'Thriller']   \n",
      "\n",
      "                                production_companies release_date  vote_count  \\\n",
      "0  ['Universal Studios', 'Amblin Entertainment', ...   2015-06-09        5562   \n",
      "1  ['Village Roadshow Pictures', 'Kennedy Miller ...   2015-05-13        6185   \n",
      "2  ['Summit Entertainment', 'Mandeville Films', '...   2015-03-18        2480   \n",
      "3  ['Lucasfilm', 'Truenorth Productions', 'Bad Ro...   2015-12-15        5292   \n",
      "4  ['Universal Pictures', 'Original Film', 'Media...   2015-04-01        2947   \n",
      "\n",
      "   vote_average  release_year    budget_adj   revenue_adj  \n",
      "0           6.5          2015  1.379999e+08  1.392446e+09  \n",
      "1           7.1          2015  1.379999e+08  3.481613e+08  \n",
      "2           6.3          2015  1.012000e+08  2.716190e+08  \n",
      "3           7.5          2015  1.839999e+08  1.902723e+09  \n",
      "4           7.3          2015  1.747999e+08  1.385749e+09  \n"
     ]
    }
   ],
   "source": [
    "# Load the data\n",
    "data = pd.read_csv('data\\cleaned_data.csv')\n",
    "print(data.head())"
   ]
  },
  {
   "cell_type": "code",
   "execution_count": 10,
   "metadata": {},
   "outputs": [
    {
     "name": "stdout",
     "output_type": "stream",
     "text": [
      "Index(['id', 'popularity', 'budget', 'revenue', 'original_title', 'cast',\n",
      "       'director', 'keywords', 'runtime', 'genres', 'production_companies',\n",
      "       'release_date', 'vote_count', 'vote_average', 'release_year',\n",
      "       'budget_adj', 'revenue_adj'],\n",
      "      dtype='object')\n"
     ]
    }
   ],
   "source": [
    "print(data.columns)"
   ]
  },
  {
   "cell_type": "code",
   "execution_count": 17,
   "metadata": {},
   "outputs": [
    {
     "name": "stdout",
     "output_type": "stream",
     "text": [
      "                               original_title release_date\n",
      "322                                   Martyrs   2015-12-31\n",
      "190                 Open Season: Scared Silly   2015-12-31\n",
      "144                                 Anomalisa   2015-12-30\n",
      "569                 Harry Price: Ghost Hunter   2015-12-27\n",
      "540                  And Then There Were None   2015-12-26\n",
      "..                                        ...          ...\n",
      "124  Paranormal Activity: The Ghost Dimension   2015-10-21\n",
      "41                      The Last Witch Hunter   2015-10-21\n",
      "396                              Back in Time   2015-10-20\n",
      "345             Jesse Stone: Lost in Paradise   2015-10-18\n",
      "563                           They Found Hell   2015-10-17\n",
      "\n",
      "[100 rows x 2 columns]\n",
      "                original_title release_date\n",
      "10450  The Day of the Triffids   1963-04-24\n",
      "10439                The Birds   1963-03-28\n",
      "10453                The Raven   1963-01-25\n",
      "10460       This Sporting Life   1963-01-15\n",
      "10449     Murder at the Gallop   1963-01-01\n",
      "...                        ...          ...\n",
      "10155         Comanche Station   1960-03-01\n",
      "10165       Carry On Constable   1960-02-22\n",
      "10161       Sink the Bismarck!   1960-02-11\n",
      "10149           The Unforgiven   1960-01-01\n",
      "10151    The Brides of Dracula   1960-01-01\n",
      "\n",
      "[100 rows x 2 columns]\n"
     ]
    }
   ],
   "source": [
    "# Question 1: order by the release date descendingly and save to a new csv file\n",
    "sorted_release_date = data.sort_values('release_date', ascending=False)\n",
    "print(sorted_release_date[['original_title','release_date']].head(100))\n",
    "print(sorted_release_date[['original_title','release_date']].tail(100))\n",
    "sorted_release_date.to_csv('data\\sorted_release_date.csv', index=False)"
   ]
  },
  {
   "cell_type": "code",
   "execution_count": 23,
   "metadata": {},
   "outputs": [
    {
     "name": "stdout",
     "output_type": "stream",
     "text": [
      "vote_average\n",
      "7.6    89\n",
      "7.8    62\n",
      "7.7    62\n",
      "7.9    46\n",
      "8.0    37\n",
      "8.1    16\n",
      "8.4    10\n",
      "8.3    10\n",
      "8.2     6\n",
      "8.5     6\n",
      "8.8     2\n",
      "8.9     1\n",
      "8.6     1\n",
      "9.2     1\n",
      "8.7     1\n",
      "Name: count, dtype: int64\n"
     ]
    }
   ],
   "source": [
    "# Question 2: Filter the movies with average vote greater than 7.5 and save to a new csv file\n",
    "filtered_average_vote = data[data['vote_average'] > 7.5]\n",
    "print(filtered_average_vote['vote_average'].value_counts())\n",
    "filtered_average_vote.to_csv('data/average_vote_7.5.csv', index=False)"
   ]
  },
  {
   "cell_type": "code",
   "execution_count": 27,
   "metadata": {},
   "outputs": [
    {
     "name": "stdout",
     "output_type": "stream",
     "text": [
      "1386    Avatar\n",
      "Name: original_title, dtype: object\n"
     ]
    }
   ],
   "source": [
    "# Question 3: Movies with highest and lowest revenues (I'm using 'revenue_adj')\n",
    "highest_revenue = data[data['revenue_adj'] == data['revenue_adj'].max()]\n",
    "print(highest_revenue['original_title'])\n",
    "highest_revenue.to_csv('data/highest_revenue_movie.csv', index=False)"
   ]
  },
  {
   "cell_type": "code",
   "execution_count": 30,
   "metadata": {},
   "outputs": [
    {
     "name": "stdout",
     "output_type": "stream",
     "text": [
      "                       original_title  revenue_adj\n",
      "48                          Wild Card          0.0\n",
      "67                           Survivor          0.0\n",
      "74             Mythica: The Darkspore          0.0\n",
      "75     Me and Earl and the Dying Girl          0.0\n",
      "92           Mythica: The Necromancer          0.0\n",
      "...                               ...          ...\n",
      "10860              The Endless Summer          0.0\n",
      "10861                      Grand Prix          0.0\n",
      "10862             Beregis Avtomobilya          0.0\n",
      "10863          What's Up, Tiger Lily?          0.0\n",
      "10864        Manos: The Hands of Fate          0.0\n",
      "\n",
      "[6016 rows x 2 columns]\n"
     ]
    }
   ],
   "source": [
    "lowest_revenue = data[data['revenue_adj'] == data['revenue_adj'].min()]\n",
    "print(lowest_revenue[['original_title','revenue_adj']])\n",
    "lowest_revenue.to_csv('data/lowest_revenue_movies.csv', index=False)"
   ]
  },
  {
   "cell_type": "code",
   "execution_count": 39,
   "metadata": {},
   "outputs": [
    {
     "name": "stdout",
     "output_type": "stream",
     "text": [
      "558124204109.8252\n"
     ]
    }
   ],
   "source": [
    "# Question 4: Calculate the sum of revenues (using 'revenue_adj')\n",
    "total_revenue = data['revenue_adj'].sum()\n",
    "print(total_revenue)\n",
    "with open('data/total_revenue.txt','w') as file:\n",
    "    file.write(f\"The sum of all movies' revenues: {total_revenue}\")\n"
   ]
  },
  {
   "cell_type": "code",
   "execution_count": 42,
   "metadata": {},
   "outputs": [
    {
     "name": "stdout",
     "output_type": "stream",
     "text": [
      "           id  popularity     budget     revenue  \\\n",
      "1329       11   12.037933   11000000   775398007   \n",
      "1386    19995    9.432768  237000000  2781505847   \n",
      "5230      597    4.355219  200000000  1845034188   \n",
      "10593    9552    2.010733    8000000   441306145   \n",
      "9805      578    2.563191    7000000   470654000   \n",
      "8888      601    2.900556   10500000   792910554   \n",
      "3      140607   11.173104  200000000  2068178225   \n",
      "8093     1642    1.136610   22000000  1106279658   \n",
      "10109   12230    2.631987    4000000   215880014   \n",
      "7308     1891    5.488441   18000000   538400000   \n",
      "\n",
      "                       original_title  \\\n",
      "1329                        Star Wars   \n",
      "1386                           Avatar   \n",
      "5230                          Titanic   \n",
      "10593                    The Exorcist   \n",
      "9805                             Jaws   \n",
      "8888       E.T. the Extra-Terrestrial   \n",
      "3        Star Wars: The Force Awakens   \n",
      "8093                          The Net   \n",
      "10109  One Hundred and One Dalmatians   \n",
      "7308          The Empire Strikes Back   \n",
      "\n",
      "                                                    cast  \\\n",
      "1329   ['Mark Hamill', 'Harrison Ford', 'Carrie Fishe...   \n",
      "1386   ['Sam Worthington', 'Zoe Saldana', 'Sigourney ...   \n",
      "5230   ['Kate Winslet', 'Leonardo DiCaprio', 'Frances...   \n",
      "10593  ['Linda Blair', 'Max von Sydow', 'Ellen Bursty...   \n",
      "9805   ['Roy Scheider', 'Robert Shaw', 'Richard Dreyf...   \n",
      "8888   ['Henry Thomas', 'Drew Barrymore', 'Robert Mac...   \n",
      "3      ['Harrison Ford', 'Mark Hamill', 'Carrie Fishe...   \n",
      "8093   ['Sandra Bullock', 'Jeremy Northam', 'Dennis M...   \n",
      "10109  ['Rod Taylor', \"J. Pat O'Malley\", 'Betty Lou G...   \n",
      "7308   ['Mark Hamill', 'Harrison Ford', 'Carrie Fishe...   \n",
      "\n",
      "                                                director  \\\n",
      "1329                                        George Lucas   \n",
      "1386                                       James Cameron   \n",
      "5230                                       James Cameron   \n",
      "10593                                   William Friedkin   \n",
      "9805                                    Steven Spielberg   \n",
      "8888                                    Steven Spielberg   \n",
      "3                                            J.J. Abrams   \n",
      "8093                                       Irwin Winkler   \n",
      "10109  Clyde Geronimi|Hamilton Luske|Wolfgang Reitherman   \n",
      "7308                                      Irvin Kershner   \n",
      "\n",
      "                                                keywords  runtime  \\\n",
      "1329   ['android', 'galaxy', 'hermit', 'death star', ...      121   \n",
      "1386   ['culture clash', 'future', 'space war', 'spac...      162   \n",
      "5230   ['shipwreck', 'iceberg', 'ship', 'panic', 'tit...      194   \n",
      "10593  ['exorcism', 'holy water', 'religion and super...      122   \n",
      "9805   ['fishing', 'atlantic ocean', 'bathing', 'ship...      124   \n",
      "8888   ['farewell', 'homesickness', 'nasa', 'extrater...      115   \n",
      "3      ['android', 'spaceship', 'jedi', 'space opera'...      136   \n",
      "8093   ['cheating', 'new identity', 'computer virus',...      114   \n",
      "10109         ['puppy', 'animation', 'dog', 'dalmatian']       79   \n",
      "7308   ['rebel', 'asteroid', 'space battle', 'snow st...      124   \n",
      "\n",
      "                                                  genres  \\\n",
      "1329          ['Adventure', 'Action', 'Science Fiction']   \n",
      "1386   ['Action', 'Adventure', 'Fantasy', 'Science Fi...   \n",
      "5230                    ['Drama', 'Romance', 'Thriller']   \n",
      "10593                    ['Drama', 'Horror', 'Thriller']   \n",
      "9805                 ['Horror', 'Thriller', 'Adventure']   \n",
      "8888   ['Science Fiction', 'Adventure', 'Family', 'Fa...   \n",
      "3      ['Action', 'Adventure', 'Science Fiction', 'Fa...   \n",
      "8093   ['Crime', 'Drama', 'Mystery', 'Thriller', 'Act...   \n",
      "10109     ['Adventure', 'Animation', 'Comedy', 'Family']   \n",
      "7308          ['Adventure', 'Action', 'Science Fiction']   \n",
      "\n",
      "                                    production_companies release_date  \\\n",
      "1329   ['Lucasfilm', 'Twentieth Century Fox Film Corp...   1977-03-20   \n",
      "1386   ['Ingenious Film Partners', 'Twentieth Century...   2009-12-10   \n",
      "5230   ['Paramount Pictures', 'Twentieth Century Fox ...   1997-11-18   \n",
      "10593               ['Warner Bros.', 'Hoya Productions']   1973-12-26   \n",
      "9805   ['Universal Pictures', 'Zanuck/Brown Productio...   1975-06-18   \n",
      "8888      ['Universal Pictures', 'Amblin Entertainment']   1982-04-03   \n",
      "3      ['Lucasfilm', 'Truenorth Productions', 'Bad Ro...   2015-12-15   \n",
      "8093                               ['Columbia Pictures']   1995-07-28   \n",
      "10109                        ['Walt Disney Productions']   1961-01-25   \n",
      "7308   ['Lucasfilm', 'Twentieth Century Fox Film Corp...   1980-01-01   \n",
      "\n",
      "       vote_count  vote_average  release_year    budget_adj   revenue_adj  \\\n",
      "1329         4428           7.9          1977  3.957559e+07  2.789712e+09   \n",
      "1386         8458           7.1          2009  2.408869e+08  2.827124e+09   \n",
      "5230         4654           7.3          1997  2.716921e+08  2.506406e+09   \n",
      "10593        1113           7.2          1973  3.928928e+07  2.167325e+09   \n",
      "9805         1415           7.3          1975  2.836275e+07  1.907006e+09   \n",
      "8888         1830           7.2          1982  2.372625e+07  1.791694e+09   \n",
      "3            5292           7.5          2015  1.839999e+08  1.902723e+09   \n",
      "8093          201           5.6          1995  3.148127e+07  1.583050e+09   \n",
      "10109         913           6.6          1961  2.917944e+07  1.574815e+09   \n",
      "7308         3954           8.0          1980  4.762866e+07  1.424626e+09   \n",
      "\n",
      "         Profit_adj  \n",
      "1329   2.750137e+09  \n",
      "1386   2.586237e+09  \n",
      "5230   2.234714e+09  \n",
      "10593  2.128036e+09  \n",
      "9805   1.878643e+09  \n",
      "8888   1.767968e+09  \n",
      "3      1.718723e+09  \n",
      "8093   1.551568e+09  \n",
      "10109  1.545635e+09  \n",
      "7308   1.376998e+09  \n"
     ]
    }
   ],
   "source": [
    "# Question 5: Find top 10 movies with the highest profits (profit = revenue - budget)\n",
    "data['Profit_adj'] = data['revenue_adj'] - data['budget_adj']\n",
    "top_10_profit = data.sort_values('Profit_adj', ascending=False).head(10)\n",
    "print(top_10_profit)\n",
    "top_10_profit.to_csv('data/highest_profit_10.csv', index=False)"
   ]
  },
  {
   "cell_type": "code",
   "execution_count": 60,
   "metadata": {},
   "outputs": [],
   "source": [
    "def ignore_unknown(count_list):\n",
    "    if count_list.index[0] != 'Unknown':\n",
    "        return (count_list.index[0], count_list.iloc[0])\n",
    "    else:\n",
    "        return (count_list.index[1], count_list.iloc[1])"
   ]
  },
  {
   "cell_type": "code",
   "execution_count": null,
   "metadata": {},
   "outputs": [
    {
     "name": "stdout",
     "output_type": "stream",
     "text": [
      "director\n",
      "Woody Allen         46\n",
      "No Director         44\n",
      "Clint Eastwood      34\n",
      "Martin Scorsese     31\n",
      "Steven Spielberg    30\n",
      "                    ..\n",
      "James Hill           1\n",
      "Fielder Cook         1\n",
      "Alan Rafkin          1\n",
      "Bruce Brown          1\n",
      "Mike Lerner          1\n",
      "Name: count, Length: 5363, dtype: int64\n"
     ]
    }
   ],
   "source": [
    "# Question 6:  Find the director and actor with the most movies\n",
    "# Director\n",
    "import ast\n",
    "# data['director'] = data['director'].apply(lambda x: ast.literal_eval(x))\n",
    "exploded_director = data.explode('director')\n",
    "count_director = exploded_director['director'].value_counts()\n",
    "print(count_director)\n",
    "# Select the most frequent director (excluding 'Unknown' if necessary)\n",
    "director_with_most_movies = ignore_unknown(count_director)\n",
    "\n"
   ]
  },
  {
   "cell_type": "code",
   "execution_count": null,
   "metadata": {},
   "outputs": [
    {
     "name": "stdout",
     "output_type": "stream",
     "text": [
      "cast\n",
      "Unknown              76\n",
      "Robert De Niro       72\n",
      "Samuel L. Jackson    71\n",
      "Bruce Willis         62\n",
      "Nicolas Cage         61\n",
      "                     ..\n",
      "Michael Hynson        1\n",
      "Jeff Corey            1\n",
      "Salome Jens           1\n",
      "Parley Baer           1\n",
      "Josh Helman           1\n",
      "Name: count, Length: 19027, dtype: int64\n"
     ]
    }
   ],
   "source": [
    "# Actor/Actress\n",
    "# data['cast'] = data['cast'].apply(lambda x: ast.literal_eval(x))\n",
    "exploded_cast = data.explode('cast')\n",
    "count_actor = exploded_cast['cast'].value_counts()\n",
    "print(count_actor)\n",
    "# Select the most frequent director (excluding 'Unknown' if necessary)\n",
    "actor_with_most_movies = ignore_unknown(count_actor)"
   ]
  },
  {
   "cell_type": "code",
   "execution_count": 58,
   "metadata": {},
   "outputs": [],
   "source": [
    "with open(\"data/director_actor_most_movies.txt\", \"w\") as f: \n",
    "    f.write(f\"The director with the most movies is {director_with_most_movies[0]} with {director_with_most_movies[1]} movies.\\n\")\n",
    "    f.write(f\"The actor with the most movies is {actor_with_most_movies[0]} with {actor_with_most_movies[1]} movies.\")\n"
   ]
  },
  {
   "cell_type": "code",
   "execution_count": null,
   "metadata": {},
   "outputs": [
    {
     "name": "stdout",
     "output_type": "stream",
     "text": [
      "genres\n",
      "Drama              4760\n",
      "Comedy             3793\n",
      "Thriller           2907\n",
      "Action             2384\n",
      "Romance            1712\n",
      "Horror             1637\n",
      "Adventure          1471\n",
      "Crime              1354\n",
      "Family             1231\n",
      "Science Fiction    1229\n",
      "Fantasy             916\n",
      "Mystery             810\n",
      "Animation           699\n",
      "Documentary         520\n",
      "Music               408\n",
      "History             334\n",
      "War                 270\n",
      "Foreign             188\n",
      "TV Movie            167\n",
      "Western             165\n",
      "Unknown              23\n",
      "Name: count, dtype: int64\n"
     ]
    }
   ],
   "source": [
    "# Question 7: Movies by categories\n",
    "# data['genres'] = data['genres'].apply(lambda x: ast.literal_eval(x))\n",
    "exploded_genres = data.explode('genres')\n",
    "count_genres = exploded_genres['genres'].value_counts()\n",
    "print(count_genres)"
   ]
  },
  {
   "cell_type": "code",
   "execution_count": 63,
   "metadata": {},
   "outputs": [
    {
     "data": {
      "image/png": "[encoded data removed]",
      "text/plain": [
       "<Figure size 1000x500 with 1 Axes>"
      ]
     },
     "metadata": {},
     "output_type": "display_data"
    }
   ],
   "source": [
    "df = count_genres.reset_index()\n",
    "df.columns = ['Genre', 'Count']\n",
    "plt.figure(figsize=(10,5))  # Adjust figure size\n",
    "sns.barplot(x='Genre', y='Count', data=df)\n",
    "# Rotate x-axis labels if too many genres\n",
    "plt.xticks(rotation=45)\n",
    "# Show the plot\n",
    "plt.show()"
   ]
  },
  {
   "cell_type": "code",
   "execution_count": null,
   "metadata": {},
   "outputs": [],
   "source": []
  }
 ],
 "metadata": {
  "kernelspec": {
   "display_name": "Python (venv)",
   "language": "python",
   "name": "venv"
  },
  "language_info": {
   "codemirror_mode": {
    "name": "ipython",
    "version": 3
   },
   "file_extension": ".py",
   "mimetype": "text/x-python",
   "name": "python",
   "nbconvert_exporter": "python",
   "pygments_lexer": "ipython3",
   "version": "3.9.5"
  }
 },
 "nbformat": 4,
 "nbformat_minor": 2
}
