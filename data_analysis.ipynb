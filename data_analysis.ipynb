{
 "cells": [
  {
   "cell_type": "code",
   "execution_count": 2,
   "metadata": {},
   "outputs": [],
   "source": [
    "import pandas as pd\n",
    "import matplotlib.pyplot as plt\n",
    "import numpy as np\n",
    "import seaborn as sns"
   ]
  },
  {
   "cell_type": "code",
   "execution_count": 9,
   "metadata": {},
   "outputs": [
    {
     "name": "stdout",
     "output_type": "stream",
     "text": [
      "       id  popularity     budget     revenue                original_title  \\\n",
      "0  135397   32.985763  150000000  1513528810                Jurassic World   \n",
      "1   76341   28.419936  150000000   378436354            Mad Max: Fury Road   \n",
      "2  262500   13.112507  110000000   295238201                     Insurgent   \n",
      "3  140607   11.173104  200000000  2068178225  Star Wars: The Force Awakens   \n",
      "4  168259    9.335014  190000000  1506249360                     Furious 7   \n",
      "\n",
      "                                                cast          director  \\\n",
      "0  ['Chris Pratt', 'Bryce Dallas Howard', 'Irrfan...   Colin Trevorrow   \n",
      "1  ['Tom Hardy', 'Charlize Theron', 'Hugh Keays-B...     George Miller   \n",
      "2  ['Shailene Woodley', 'Theo James', 'Kate Winsl...  Robert Schwentke   \n",
      "3  ['Harrison Ford', 'Mark Hamill', 'Carrie Fishe...       J.J. Abrams   \n",
      "4  ['Vin Diesel', 'Paul Walker', 'Jason Statham',...         James Wan   \n",
      "\n",
      "                                            keywords  runtime  \\\n",
      "0  ['monster', 'dna', 'tyrannosaurus rex', 'veloc...      124   \n",
      "1  ['future', 'chase', 'post-apocalyptic', 'dysto...      120   \n",
      "2  ['based on novel', 'revolution', 'dystopia', '...      119   \n",
      "3  ['android', 'spaceship', 'jedi', 'space opera'...      136   \n",
      "4  ['car race', 'speed', 'revenge', 'suspense', '...      137   \n",
      "\n",
      "                                              genres  \\\n",
      "0  ['Action', 'Adventure', 'Science Fiction', 'Th...   \n",
      "1  ['Action', 'Adventure', 'Science Fiction', 'Th...   \n",
      "2       ['Adventure', 'Science Fiction', 'Thriller']   \n",
      "3  ['Action', 'Adventure', 'Science Fiction', 'Fa...   \n",
      "4                    ['Action', 'Crime', 'Thriller']   \n",
      "\n",
      "                                production_companies release_date  vote_count  \\\n",
      "0  ['Universal Studios', 'Amblin Entertainment', ...   2015-06-09        5562   \n",
      "1  ['Village Roadshow Pictures', 'Kennedy Miller ...   2015-05-13        6185   \n",
      "2  ['Summit Entertainment', 'Mandeville Films', '...   2015-03-18        2480   \n",
      "3  ['Lucasfilm', 'Truenorth Productions', 'Bad Ro...   2015-12-15        5292   \n",
      "4  ['Universal Pictures', 'Original Film', 'Media...   2015-04-01        2947   \n",
      "\n",
      "   vote_average  release_year    budget_adj   revenue_adj  \n",
      "0           6.5          2015  1.379999e+08  1.392446e+09  \n",
      "1           7.1          2015  1.379999e+08  3.481613e+08  \n",
      "2           6.3          2015  1.012000e+08  2.716190e+08  \n",
      "3           7.5          2015  1.839999e+08  1.902723e+09  \n",
      "4           7.3          2015  1.747999e+08  1.385749e+09  \n"
     ]
    }
   ],
   "source": [
    "# Load the data\n",
    "data = pd.read_csv('data\\cleaned_data.csv')\n",
    "print(data.head())"
   ]
  },
  {
   "cell_type": "code",
   "execution_count": 10,
   "metadata": {},
   "outputs": [
    {
     "name": "stdout",
     "output_type": "stream",
     "text": [
      "Index(['id', 'popularity', 'budget', 'revenue', 'original_title', 'cast',\n",
      "       'director', 'keywords', 'runtime', 'genres', 'production_companies',\n",
      "       'release_date', 'vote_count', 'vote_average', 'release_year',\n",
      "       'budget_adj', 'revenue_adj'],\n",
      "      dtype='object')\n"
     ]
    }
   ],
   "source": [
    "print(data.columns)"
   ]
  },
  {
   "cell_type": "code",
   "execution_count": 17,
   "metadata": {},
   "outputs": [
    {
     "name": "stdout",
     "output_type": "stream",
     "text": [
      "                               original_title release_date\n",
      "322                                   Martyrs   2015-12-31\n",
      "190                 Open Season: Scared Silly   2015-12-31\n",
      "144                                 Anomalisa   2015-12-30\n",
      "569                 Harry Price: Ghost Hunter   2015-12-27\n",
      "540                  And Then There Were None   2015-12-26\n",
      "..                                        ...          ...\n",
      "124  Paranormal Activity: The Ghost Dimension   2015-10-21\n",
      "41                      The Last Witch Hunter   2015-10-21\n",
      "396                              Back in Time   2015-10-20\n",
      "345             Jesse Stone: Lost in Paradise   2015-10-18\n",
      "563                           They Found Hell   2015-10-17\n",
      "\n",
      "[100 rows x 2 columns]\n",
      "                original_title release_date\n",
      "10450  The Day of the Triffids   1963-04-24\n",
      "10439                The Birds   1963-03-28\n",
      "10453                The Raven   1963-01-25\n",
      "10460       This Sporting Life   1963-01-15\n",
      "10449     Murder at the Gallop   1963-01-01\n",
      "...                        ...          ...\n",
      "10155         Comanche Station   1960-03-01\n",
      "10165       Carry On Constable   1960-02-22\n",
      "10161       Sink the Bismarck!   1960-02-11\n",
      "10149           The Unforgiven   1960-01-01\n",
      "10151    The Brides of Dracula   1960-01-01\n",
      "\n",
      "[100 rows x 2 columns]\n"
     ]
    }
   ],
   "source": [
    "# Question 1: order by the release date descendingly and save to a new csv file\n",
    "sorted_release_date = data.sort_values('release_date', ascending=False)\n",
    "print(sorted_release_date[['original_title','release_date']].head(100))\n",
    "print(sorted_release_date[['original_title','release_date']].tail(100))\n",
    "sorted_release_date.to_csv('data\\sorted_release_date.csv', index=False)"
   ]
  },
  {
   "cell_type": "code",
   "execution_count": null,
   "metadata": {},
   "outputs": [],
   "source": [
    "# Question 2: Filter the movies with average vote greater than 7.5 and save to a new csv file"
   ]
  }
 ],
 "metadata": {
  "kernelspec": {
   "display_name": "Python (venv)",
   "language": "python",
   "name": "venv"
  },
  "language_info": {
   "codemirror_mode": {
    "name": "ipython",
    "version": 3
   },
   "file_extension": ".py",
   "mimetype": "text/x-python",
   "name": "python",
   "nbconvert_exporter": "python",
   "pygments_lexer": "ipython3",
   "version": "3.9.5"
  }
 },
 "nbformat": 4,
 "nbformat_minor": 2
}
