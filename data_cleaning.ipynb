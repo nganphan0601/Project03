{
 "cells": [
  {
   "cell_type": "code",
   "execution_count": 1,
   "metadata": {},
   "outputs": [],
   "source": [
    "import pandas as pd"
   ]
  },
  {
   "cell_type": "code",
   "execution_count": 2,
   "metadata": {},
   "outputs": [],
   "source": [
    "url = \"https://raw.githubusercontent.com/yinghaoz1/tmdb-movie-dataset-analysis/master/tmdb-movies.csv\""
   ]
  },
  {
   "cell_type": "code",
   "execution_count": 14,
   "metadata": {},
   "outputs": [
    {
     "name": "stdout",
     "output_type": "stream",
     "text": [
      "<class 'pandas.core.frame.DataFrame'>\n",
      "RangeIndex: 10866 entries, 0 to 10865\n",
      "Data columns (total 21 columns):\n",
      " #   Column                Non-Null Count  Dtype  \n",
      "---  ------                --------------  -----  \n",
      " 0   id                    10866 non-null  int64  \n",
      " 1   imdb_id               10856 non-null  object \n",
      " 2   popularity            10866 non-null  float64\n",
      " 3   budget                10866 non-null  int64  \n",
      " 4   revenue               10866 non-null  int64  \n",
      " 5   original_title        10866 non-null  object \n",
      " 6   cast                  10790 non-null  object \n",
      " 7   homepage              2936 non-null   object \n",
      " 8   director              10822 non-null  object \n",
      " 9   tagline               8042 non-null   object \n",
      " 10  keywords              9373 non-null   object \n",
      " 11  overview              10862 non-null  object \n",
      " 12  runtime               10866 non-null  int64  \n",
      " 13  genres                10843 non-null  object \n",
      " 14  production_companies  9836 non-null   object \n",
      " 15  release_date          10866 non-null  object \n",
      " 16  vote_count            10866 non-null  int64  \n",
      " 17  vote_average          10866 non-null  float64\n",
      " 18  release_year          10866 non-null  int64  \n",
      " 19  budget_adj            10866 non-null  float64\n",
      " 20  revenue_adj           10866 non-null  float64\n",
      "dtypes: float64(4), int64(6), object(11)\n",
      "memory usage: 1.7+ MB\n",
      "None\n"
     ]
    }
   ],
   "source": [
    "df = pd.read_csv(url)\n",
    "print(df.info())"
   ]
  },
  {
   "cell_type": "code",
   "execution_count": 15,
   "metadata": {},
   "outputs": [
    {
     "name": "stdout",
     "output_type": "stream",
     "text": [
      "       id    imdb_id  popularity     budget     revenue  \\\n",
      "0  135397  tt0369610   32.985763  150000000  1513528810   \n",
      "1   76341  tt1392190   28.419936  150000000   378436354   \n",
      "2  262500  tt2908446   13.112507  110000000   295238201   \n",
      "3  140607  tt2488496   11.173104  200000000  2068178225   \n",
      "4  168259  tt2820852    9.335014  190000000  1506249360   \n",
      "\n",
      "                 original_title  \\\n",
      "0                Jurassic World   \n",
      "1            Mad Max: Fury Road   \n",
      "2                     Insurgent   \n",
      "3  Star Wars: The Force Awakens   \n",
      "4                     Furious 7   \n",
      "\n",
      "                                                cast  \\\n",
      "0  Chris Pratt|Bryce Dallas Howard|Irrfan Khan|Vi...   \n",
      "1  Tom Hardy|Charlize Theron|Hugh Keays-Byrne|Nic...   \n",
      "2  Shailene Woodley|Theo James|Kate Winslet|Ansel...   \n",
      "3  Harrison Ford|Mark Hamill|Carrie Fisher|Adam D...   \n",
      "4  Vin Diesel|Paul Walker|Jason Statham|Michelle ...   \n",
      "\n",
      "                                            homepage          director  \\\n",
      "0                      http://www.jurassicworld.com/   Colin Trevorrow   \n",
      "1                        http://www.madmaxmovie.com/     George Miller   \n",
      "2     http://www.thedivergentseries.movie/#insurgent  Robert Schwentke   \n",
      "3  http://www.starwars.com/films/star-wars-episod...       J.J. Abrams   \n",
      "4                           http://www.furious7.com/         James Wan   \n",
      "\n",
      "                         tagline  ...  \\\n",
      "0              The park is open.  ...   \n",
      "1             What a Lovely Day.  ...   \n",
      "2     One Choice Can Destroy You  ...   \n",
      "3  Every generation has a story.  ...   \n",
      "4            Vengeance Hits Home  ...   \n",
      "\n",
      "                                            overview runtime  \\\n",
      "0  Twenty-two years after the events of Jurassic ...     124   \n",
      "1  An apocalyptic story set in the furthest reach...     120   \n",
      "2  Beatrice Prior must confront her inner demons ...     119   \n",
      "3  Thirty years after defeating the Galactic Empi...     136   \n",
      "4  Deckard Shaw seeks revenge against Dominic Tor...     137   \n",
      "\n",
      "                                      genres  \\\n",
      "0  Action|Adventure|Science Fiction|Thriller   \n",
      "1  Action|Adventure|Science Fiction|Thriller   \n",
      "2         Adventure|Science Fiction|Thriller   \n",
      "3   Action|Adventure|Science Fiction|Fantasy   \n",
      "4                      Action|Crime|Thriller   \n",
      "\n",
      "                                production_companies release_date vote_count  \\\n",
      "0  Universal Studios|Amblin Entertainment|Legenda...       6/9/15       5562   \n",
      "1  Village Roadshow Pictures|Kennedy Miller Produ...      5/13/15       6185   \n",
      "2  Summit Entertainment|Mandeville Films|Red Wago...      3/18/15       2480   \n",
      "3          Lucasfilm|Truenorth Productions|Bad Robot     12/15/15       5292   \n",
      "4  Universal Pictures|Original Film|Media Rights ...       4/1/15       2947   \n",
      "\n",
      "   vote_average  release_year    budget_adj   revenue_adj  \n",
      "0           6.5          2015  1.379999e+08  1.392446e+09  \n",
      "1           7.1          2015  1.379999e+08  3.481613e+08  \n",
      "2           6.3          2015  1.012000e+08  2.716190e+08  \n",
      "3           7.5          2015  1.839999e+08  1.902723e+09  \n",
      "4           7.3          2015  1.747999e+08  1.385749e+09  \n",
      "\n",
      "[5 rows x 21 columns]\n"
     ]
    }
   ],
   "source": [
    "print(df.head())"
   ]
  },
  {
   "cell_type": "code",
   "execution_count": 16,
   "metadata": {},
   "outputs": [],
   "source": [
    "# Data Cleaning\n",
    "# Drop columns that are not needed: overview, homepage, imdb_id,  tagline\n",
    "df.drop([\"overview\", \"homepage\", \"imdb_id\", \"tagline\"], axis=1, inplace=True)"
   ]
  },
  {
   "cell_type": "code",
   "execution_count": 17,
   "metadata": {},
   "outputs": [
    {
     "name": "stdout",
     "output_type": "stream",
     "text": [
      "<class 'pandas.core.frame.DataFrame'>\n",
      "RangeIndex: 10866 entries, 0 to 10865\n",
      "Data columns (total 17 columns):\n",
      " #   Column                Non-Null Count  Dtype  \n",
      "---  ------                --------------  -----  \n",
      " 0   id                    10866 non-null  int64  \n",
      " 1   popularity            10866 non-null  float64\n",
      " 2   budget                10866 non-null  int64  \n",
      " 3   revenue               10866 non-null  int64  \n",
      " 4   original_title        10866 non-null  object \n",
      " 5   cast                  10790 non-null  object \n",
      " 6   director              10822 non-null  object \n",
      " 7   keywords              9373 non-null   object \n",
      " 8   runtime               10866 non-null  int64  \n",
      " 9   genres                10843 non-null  object \n",
      " 10  production_companies  9836 non-null   object \n",
      " 11  release_date          10866 non-null  object \n",
      " 12  vote_count            10866 non-null  int64  \n",
      " 13  vote_average          10866 non-null  float64\n",
      " 14  release_year          10866 non-null  int64  \n",
      " 15  budget_adj            10866 non-null  float64\n",
      " 16  revenue_adj           10866 non-null  float64\n",
      "dtypes: float64(4), int64(6), object(7)\n",
      "memory usage: 1.4+ MB\n",
      "None\n"
     ]
    }
   ],
   "source": [
    "print(df.info())"
   ]
  },
  {
   "cell_type": "code",
   "execution_count": 18,
   "metadata": {},
   "outputs": [],
   "source": [
    "# Replace Null values in columns 'cast, 'director', 'genres', 'production_companies', 'keywords' with 'Unknown'\n",
    "df.fillna({'cast': 'Unknown', \n",
    "           'genres': 'Unknown', \n",
    "           'production_companies': 'Unknown', \n",
    "           'keywords': 'Unknown', \n",
    "           'director': 'No Director'}, inplace=True)\n"
   ]
  },
  {
   "cell_type": "code",
   "execution_count": 19,
   "metadata": {},
   "outputs": [
    {
     "name": "stdout",
     "output_type": "stream",
     "text": [
      "<class 'pandas.core.frame.DataFrame'>\n",
      "RangeIndex: 10866 entries, 0 to 10865\n",
      "Data columns (total 17 columns):\n",
      " #   Column                Non-Null Count  Dtype  \n",
      "---  ------                --------------  -----  \n",
      " 0   id                    10866 non-null  int64  \n",
      " 1   popularity            10866 non-null  float64\n",
      " 2   budget                10866 non-null  int64  \n",
      " 3   revenue               10866 non-null  int64  \n",
      " 4   original_title        10866 non-null  object \n",
      " 5   cast                  10866 non-null  object \n",
      " 6   director              10866 non-null  object \n",
      " 7   keywords              10866 non-null  object \n",
      " 8   runtime               10866 non-null  int64  \n",
      " 9   genres                10866 non-null  object \n",
      " 10  production_companies  10866 non-null  object \n",
      " 11  release_date          10866 non-null  object \n",
      " 12  vote_count            10866 non-null  int64  \n",
      " 13  vote_average          10866 non-null  float64\n",
      " 14  release_year          10866 non-null  int64  \n",
      " 15  budget_adj            10866 non-null  float64\n",
      " 16  revenue_adj           10866 non-null  float64\n",
      "dtypes: float64(4), int64(6), object(7)\n",
      "memory usage: 1.4+ MB\n",
      "None\n"
     ]
    }
   ],
   "source": [
    "print(df.info())"
   ]
  },
  {
   "cell_type": "code",
   "execution_count": null,
   "metadata": {},
   "outputs": [
    {
     "name": "stdout",
     "output_type": "stream",
     "text": [
      "1\n",
      "0\n"
     ]
    }
   ],
   "source": [
    "# Handle duplicate rows\n",
    "duplicated_movies = df.duplicated()\n",
    "print(duplicated_movies.sum())  # Identify the number of duplicate rows\n",
    "df.drop_duplicates(inplace=True)    # Drop duplicate rows\n",
    "print(df.duplicated().sum())    # Verify that there are no more duplicate rows\n"
   ]
  },
  {
   "cell_type": "code",
   "execution_count": 37,
   "metadata": {},
   "outputs": [
    {
     "name": "stdout",
     "output_type": "stream",
     "text": [
      "<class 'pandas._libs.tslibs.timestamps.Timestamp'>\n"
     ]
    }
   ],
   "source": [
    "# Convert release_date to datetime\n",
    "df['release_date'] = pd.to_datetime(df['release_date'])\n",
    "print(type(df['release_date'][0]))"
   ]
  },
  {
   "cell_type": "code",
   "execution_count": null,
   "metadata": {},
   "outputs": [],
   "source": [
    "# Convert 'genres', 'cast', 'production_companies', 'keywords', 'director' to list\n",
    "df['genres'] = df['genres'].apply(lambda x: x.split('|'))\n",
    "df['cast'] = df['cast'].apply(lambda x: x.split('|'))\n",
    "df['production_companies'] = df['production_companies'].apply(lambda x: x.split('|'))\n",
    "df['keywords'] = df['keywords'].apply(lambda x: x.split('|'))\n",
    "df['director'] = df['director'].apply(lambda x:x.split('|'))\n",
    "print(df['genres'].head())"
   ]
  },
  {
   "cell_type": "code",
   "execution_count": 42,
   "metadata": {},
   "outputs": [
    {
     "name": "stdout",
     "output_type": "stream",
     "text": [
      "0    [Chris Pratt, Bryce Dallas Howard, Irrfan Khan...\n",
      "1    [Tom Hardy, Charlize Theron, Hugh Keays-Byrne,...\n",
      "2    [Shailene Woodley, Theo James, Kate Winslet, A...\n",
      "3    [Harrison Ford, Mark Hamill, Carrie Fisher, Ad...\n",
      "4    [Vin Diesel, Paul Walker, Jason Statham, Miche...\n",
      "Name: cast, dtype: object\n"
     ]
    }
   ],
   "source": [
    "print(df['cast'].head())"
   ]
  },
  {
   "cell_type": "code",
   "execution_count": 46,
   "metadata": {},
   "outputs": [],
   "source": [
    "# Convert 'release_date' to datetime\n",
    "df['release_date'] = pd.to_datetime(df['release_date'], format=\"%m/%d/%y\")\n",
    "\n",
    "# Fix incorrect years (assuming all movies are before 2025)\n",
    "df['release_date'] = df['release_date'].apply(lambda x: x - pd.DateOffset(years=100) if x.year > 2025 else x)"
   ]
  },
  {
   "cell_type": "code",
   "execution_count": 47,
   "metadata": {},
   "outputs": [
    {
     "name": "stdout",
     "output_type": "stream",
     "text": [
      "release_date\n",
      "2009-01-01    28\n",
      "2008-01-01    21\n",
      "2007-01-01    18\n",
      "2005-01-01    16\n",
      "2014-10-10    15\n",
      "              ..\n",
      "1966-12-16     1\n",
      "1966-02-23     1\n",
      "1966-05-05     1\n",
      "1966-12-20     1\n",
      "1966-11-01     1\n",
      "Name: count, Length: 5909, dtype: int64\n"
     ]
    }
   ],
   "source": [
    "print(df['release_date'].value_counts())"
   ]
  },
  {
   "cell_type": "code",
   "execution_count": 52,
   "metadata": {},
   "outputs": [],
   "source": [
    "# Save the cleaned data to a new csv file\n",
    "df.to_csv('data/cleaned_data.csv', index=False)"
   ]
  },
  {
   "cell_type": "code",
   "execution_count": null,
   "metadata": {},
   "outputs": [],
   "source": []
  }
 ],
 "metadata": {
  "kernelspec": {
   "display_name": "Python (venv)",
   "language": "python",
   "name": "venv"
  },
  "language_info": {
   "codemirror_mode": {
    "name": "ipython",
    "version": 3
   },
   "file_extension": ".py",
   "mimetype": "text/x-python",
   "name": "python",
   "nbconvert_exporter": "python",
   "pygments_lexer": "ipython3",
   "version": "3.9.5"
  }
 },
 "nbformat": 4,
 "nbformat_minor": 2
}
